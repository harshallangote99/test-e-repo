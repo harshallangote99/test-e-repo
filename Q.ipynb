{
  "nbformat": 4,
  "nbformat_minor": 0,
  "metadata": {
    "colab": {
      "provenance": []
    },
    "kernelspec": {
      "name": "python3",
      "display_name": "Python 3"
    },
    "language_info": {
      "name": "python"
    }
  },
  "cells": [
    {
      "cell_type": "markdown",
      "source": [
        "Q1. What Is Python?\n",
        "\n",
        "  Python is a programming languagem,Which(जी) Helps us(आम्हाला) to communicate With the machine.\n",
        "  \n",
        "Q2. Types of Programming Language :\n",
        "\n",
        "Programming languages are of 2 types..\n",
        "\n",
        "*   Compiler Type :\n",
        "      example java, c, c++, etc.\n",
        "    \n",
        "*   Interpreter Types :\n",
        "      example Python\n",
        "\n",
        "\n",
        "  "
      ],
      "metadata": {
        "id": "zSZOEGzcSZ-x"
      }
    },
    {
      "cell_type": "code",
      "source": [
        "#Interpreter Types :example Python\n",
        "print(\"My Name Is Harshal\")\n",
        "print(\"I currently live in Pune \")\n",
        "print('python)"
      ],
      "metadata": {
        "colab": {
          "base_uri": "https://localhost:8080/",
          "height": 141
        },
        "id": "UXfF3Vt9XW3H",
        "outputId": "3e5d7c5d-c3aa-4994-8ffd-d4114fda4453"
      },
      "execution_count": null,
      "outputs": [
        {
          "output_type": "error",
          "ename": "SyntaxError",
          "evalue": "unterminated string literal (detected at line 4) (<ipython-input-7-842856b72e12>, line 4)",
          "traceback": [
            "\u001b[0;36m  File \u001b[0;32m\"<ipython-input-7-842856b72e12>\"\u001b[0;36m, line \u001b[0;32m4\u001b[0m\n\u001b[0;31m    print('python)\u001b[0m\n\u001b[0m          ^\u001b[0m\n\u001b[0;31mSyntaxError\u001b[0m\u001b[0;31m:\u001b[0m unterminated string literal (detected at line 4)\n"
          ]
        }
      ]
    },
    {
      "cell_type": "markdown",
      "source": [
        "Q3. What Is print()?\n",
        "\n",
        " print() is a *built-in function* used to output text or other data to the console"
      ],
      "metadata": {
        "id": "NcyyLmY5ZHmu"
      }
    },
    {
      "cell_type": "markdown",
      "source": [
        "Q 1: Write a Python program to print \"Hello, World!\""
      ],
      "metadata": {
        "id": "PNwsTpASAodj"
      }
    },
    {
      "cell_type": "code",
      "execution_count": null,
      "metadata": {
        "colab": {
          "base_uri": "https://localhost:8080/"
        },
        "id": "Sr_9UJKvAhcv",
        "outputId": "ae8cc3c0-8994-4678-8dc3-9249ac06eaf5"
      },
      "outputs": [
        {
          "output_type": "stream",
          "name": "stdout",
          "text": [
            "Hello,World!\n"
          ]
        }
      ],
      "source": [
        "print(\"Hello,World!\")"
      ]
    },
    {
      "cell_type": "code",
      "source": [],
      "metadata": {
        "id": "6LG4i6TYaEwv"
      },
      "execution_count": null,
      "outputs": []
    },
    {
      "cell_type": "markdown",
      "source": [
        "Q 2: Calculate the sum of two numbers entered by the user."
      ],
      "metadata": {
        "id": "_6r58m8EBBh-"
      }
    },
    {
      "cell_type": "code",
      "source": [
        "a = int(input(\"Enter The First Number :\"))\n",
        "b = int(input(\"Enter The Second Number :\"))\n",
        "print(a+b)"
      ],
      "metadata": {
        "colab": {
          "base_uri": "https://localhost:8080/"
        },
        "id": "ErpmGiwSAx4I",
        "outputId": "c8921220-f502-4f09-d0d8-84252360c1b5"
      },
      "execution_count": null,
      "outputs": [
        {
          "output_type": "stream",
          "name": "stdout",
          "text": [
            "Enter The First Number :10\n",
            "Enter The Second Number :20\n",
            "30\n"
          ]
        }
      ]
    },
    {
      "cell_type": "markdown",
      "source": [
        "Q 3: Convert temperature from Celsius to Fahrenheit.\n"
      ],
      "metadata": {
        "id": "VGGegNlYBvsw"
      }
    },
    {
      "cell_type": "code",
      "source": [
        "def celsius_to_fahrenheit(celsius):\n",
        "    fahrenheit = (celsius * 9/5) + 32\n",
        "    return fahrenheit\n",
        "\n",
        "# Example usage:\n",
        "celsius_temperature = float(input(\"Enter temperature in Celsius: \"))\n",
        "fahrenheit_temperature = celsius_to_fahrenheit(celsius_temperature)\n",
        "print(f\"{celsius_temperature} degrees Celsius is equal to {fahrenheit_temperature} degrees Fahrenheit.\")\n"
      ],
      "metadata": {
        "colab": {
          "base_uri": "https://localhost:8080/"
        },
        "id": "x9EaTMyuBda-",
        "outputId": "3ad31ea6-9416-4b3f-f75a-4f487fa65f16"
      },
      "execution_count": null,
      "outputs": [
        {
          "output_type": "stream",
          "name": "stdout",
          "text": [
            "Enter temperature in Celsius: 23\n",
            "23.0 degrees Celsius is equal to 73.4 degrees Fahrenheit.\n"
          ]
        }
      ]
    },
    {
      "cell_type": "code",
      "source": [
        "# Variables for storing a person's information\n",
        "person_name = \"John Doe\"\n",
        "person_age = 25\n",
        "average_test_score = 85.5\n"
      ],
      "metadata": {
        "id": "eJqmNBHpMZPS"
      },
      "execution_count": null,
      "outputs": []
    },
    {
      "cell_type": "code",
      "source": [
        "# Variables for storing a person's information\n",
        "person_name = \"John Doe\"\n",
        "person_age = 25\n",
        "average_test_score = 85.5\n",
        "\n",
        "# Printing the information\n",
        "print(f\"Name: {person_name}\")\n",
        "print(f\"Age: {person_age} years\")\n",
        "print(f\"Average Test Score: {average_test_score}\")\n",
        "\n"
      ],
      "metadata": {
        "colab": {
          "base_uri": "https://localhost:8080/"
        },
        "id": "2S24n-6dMaBt",
        "outputId": "df7e595a-5919-42b7-97c6-fa480c6da2bc"
      },
      "execution_count": null,
      "outputs": [
        {
          "output_type": "stream",
          "name": "stdout",
          "text": [
            "Name: John Doe\n",
            "Age: 25 years\n",
            "Average Test Score: 85.5\n"
          ]
        }
      ]
    },
    {
      "cell_type": "code",
      "source": [],
      "metadata": {
        "id": "x2hoyfOeMqjw"
      },
      "execution_count": null,
      "outputs": []
    }
  ]
}